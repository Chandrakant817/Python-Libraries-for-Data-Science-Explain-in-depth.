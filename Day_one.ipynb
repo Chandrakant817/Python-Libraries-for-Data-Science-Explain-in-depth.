{
 "cells": [
  {
   "cell_type": "code",
   "execution_count": 13,
   "metadata": {},
   "outputs": [
    {
     "name": "stdout",
     "output_type": "stream",
     "text": [
      "Enter the year: 2020\n",
      "There are 366 days in the year\n"
     ]
    }
   ],
   "source": [
    "#functions\n",
    "def is_leap(year):\n",
    "    return year%400==0 or year%4==0 and year%100!=0\n",
    "\n",
    "num=int(input(\"Enter the year: \"))\n",
    "if is_leap(num):\n",
    "    print(\"There are 366 days in the year\")\n",
    "else:\n",
    "    print(\"There are 365 dayes in the year\")"
   ]
  },
  {
   "cell_type": "code",
   "execution_count": 12,
   "metadata": {},
   "outputs": [
    {
     "data": {
      "text/plain": [
       "[9, 36, 16, 25]"
      ]
     },
     "execution_count": 12,
     "metadata": {},
     "output_type": "execute_result"
    }
   ],
   "source": [
    "#Function getting sqare of a number\n",
    "#Time complexity O(n)\n",
    "def get_squared_numbers(numbers):\n",
    "    squared_numbers=[]\n",
    "    for n in numbers:\n",
    "        squared_numbers.append(n*n)\n",
    "    return squared_numbers\n",
    "numbers=[3,6,4,5]\n",
    "get_squared_numbers(numbers)"
   ]
  },
  {
   "cell_type": "code",
   "execution_count": 24,
   "metadata": {},
   "outputs": [
    {
     "name": "stdout",
     "output_type": "stream",
     "text": [
      "0 1 1 2 3 5 8 13 21 34 55 89 144 233 377 610 987 1597 2584 4181 "
     ]
    }
   ],
   "source": [
    "#fibonacci series in function\n",
    "# 0 1 1 2 3 5  8 13 21 34 . .\n",
    "def fibonacci_seq(n):\n",
    "    a=0 #first number\n",
    "    b=1 #Second number\n",
    "    if n==1:\n",
    "        print(a)\n",
    "    elif n==2:\n",
    "        print(a,b) #a b ,0 ,1\n",
    "    else:\n",
    "        print(a,b,end=\" \")\n",
    "        for i in range(n-2):\n",
    "            c=a+b\n",
    "            a=b\n",
    "            b=c\n",
    "            print(b,end=\" \")\n",
    "fibonacci_seq(20)\n",
    "    "
   ]
  },
  {
   "cell_type": "code",
   "execution_count": 25,
   "metadata": {},
   "outputs": [
    {
     "name": "stdout",
     "output_type": "stream",
     "text": [
      "Original List :  [1, 2, 3, 4, 5]\n",
      "<map object at 0x0000028FA7AD1188>\n",
      "Updated List [6, 7, 8, 9, 10]\n"
     ]
    }
   ],
   "source": [
    "#increase value of every element in list by 5\n",
    "# using combination of map and lambda function\n",
    "\n",
    "increase = lambda x: x + 5\n",
    "lst_1 = [1, 2, 3, 4, 5]\n",
    "print('Original List : ', lst_1)\n",
    "\n",
    "lst_2 = map(increase, lst_1)\n",
    "print(lst_2)\n",
    "\n",
    "lst_2 = list(lst_2)\n",
    "print('Updated List', lst_2)\n"
   ]
  },
  {
   "cell_type": "code",
   "execution_count": 26,
   "metadata": {},
   "outputs": [
    {
     "name": "stdout",
     "output_type": "stream",
     "text": [
      "Original List :  [1, 2, 3, 4, 5, 6, 7, 8, 9, 10]\n",
      "<filter object at 0x0000028FA7AD1888>\n",
      "Filtered List [2, 4, 6, 8, 10]\n"
     ]
    }
   ],
   "source": [
    "# Using lambda and along with filter function to select even numbers from list\n",
    "\n",
    "lst_1 = [1, 2, 3, 4, 5, 6, 7, 8, 9, 10] #list\n",
    "print('Original List : ', lst_1)\n",
    "\n",
    "lst_2 = filter(lambda x: x%2==0, lst_1)\n",
    "print(lst_2)\n",
    "\n",
    "lst_2 = list(lst_2)\n",
    "print('Filtered List', lst_2)"
   ]
  },
  {
   "cell_type": "code",
   "execution_count": 27,
   "metadata": {},
   "outputs": [
    {
     "name": "stdout",
     "output_type": "stream",
     "text": [
      "Original List :  [1, 2, 3, 4, 5]\n",
      "Summation :  15\n"
     ]
    }
   ],
   "source": [
    "# Using lambda and along with reduce function\n",
    "# reduce function performs a repetitive operation\n",
    "# over the pairs of the list and returns a single value\n",
    "# Calculate the sum of list element using lambda and reduce function\n",
    "\n",
    "from functools import reduce\n",
    "lst_1 = [1, 2, 3, 4, 5]\n",
    "print('Original List : ', lst_1)\n",
    "\n",
    "result = reduce(lambda x, y: x+y, lst_1)\n",
    "print('Summation : ', result)"
   ]
  },
  {
   "cell_type": "code",
   "execution_count": 28,
   "metadata": {},
   "outputs": [
    {
     "name": "stdout",
     "output_type": "stream",
     "text": [
      "Enter Any Number Between 1 to 10: 15\n",
      "Number must be between 1 to 10\n"
     ]
    }
   ],
   "source": [
    "#Exception Handling\n",
    "# Raising User defined Exception\n",
    "\n",
    "try:\n",
    "    num = input('Enter Any Number Between 1 to 10: ')\n",
    "    num = int(num)\n",
    "    if(num < 1 or num >10):\n",
    "        raise 'Wrong'\n",
    "except ValueError:\n",
    "    print('This is not number')\n",
    "except:\n",
    "    print('Number must be between 1 to 10')\n",
    "else:\n",
    "    print('Youu entered number : ', num)"
   ]
  },
  {
   "cell_type": "code",
   "execution_count": 38,
   "metadata": {},
   "outputs": [
    {
     "name": "stdout",
     "output_type": "stream",
     "text": [
      "i        : 2         \n",
      "am       : 2         \n",
      "very     : 5         \n",
      "happy    : 2         \n",
      "this     : 4         \n",
      "worse    : 2         \n",
      "than     : 1         \n",
      "and      : 1         \n",
      "healthy  : 1         \n",
      "he       : 1         \n",
      "is       : 3         \n",
      "on       : 1         \n",
      "seventh  : 1         \n",
      "cloud    : 1         \n",
      "not      : 1         \n",
      "good     : 3         \n",
      "will     : 1         \n",
      "be       : 1         \n",
      "change   : 1         \n",
      "for      : 1         \n",
      "very word occured 5 times\n"
     ]
    }
   ],
   "source": [
    "# Identify occurance count of each word\n",
    "emotions = [\"I am very happy\",\n",
    "         \"This very worse than worse\",\n",
    "         \"I am very happy and healthy\",\n",
    "        \"He is on seventh cloud\",\n",
    "         \"This is not good\",\n",
    "         \"This will be very very good\",\n",
    "         \"This change is for good\"]\n",
    "\n",
    "dictionary = {}\n",
    "\n",
    "for sentence in emotions:\n",
    "    words = sentence.split(\" \")\n",
    "    for word in words:\n",
    "        if word.lower() in dictionary:\n",
    "            dictionary[word.lower()] += 1\n",
    "        else:\n",
    "            dictionary[word.lower()] = 1\n",
    "\n",
    "for key, value in dictionary.items():\n",
    "    print('{:8} : {:<10}'.format(key, value))\n",
    "\n",
    "# Find the Word with maximum count\n",
    "keymax = max(dictionary, key= lambda x: dictionary[x]) #lambda Function\n",
    "print('{} word occured {} times'.format(keymax, dictionary[keymax])) "
   ]
  },
  {
   "cell_type": "code",
   "execution_count": 39,
   "metadata": {},
   "outputs": [
    {
     "name": "stdout",
     "output_type": "stream",
     "text": [
      "0\n",
      "0\n",
      "0\n",
      "8\n",
      "7\n",
      "8\n",
      "3\n",
      "3\n",
      "5\n",
      "3\n",
      "0\n",
      "0\n",
      "2\n",
      "6\n",
      "1\n",
      "8\n",
      "10\n",
      "8\n",
      "10\n",
      "10\n"
     ]
    }
   ],
   "source": [
    "# Infinite Generator function\n",
    "#Generator\n",
    "import random\n",
    "def random_number():\n",
    "    while True:\n",
    "        yield random.randint(0, 10)\n",
    "\n",
    "ran_num = random_number()\n",
    "for _ in range(20):\n",
    "    print(next(ran_num))\n"
   ]
  },
  {
   "cell_type": "code",
   "execution_count": 40,
   "metadata": {},
   "outputs": [
    {
     "name": "stdout",
     "output_type": "stream",
     "text": [
      "{0: 0}\n",
      "{30: 900}\n",
      "{60: 3600}\n",
      "{90: 8100}\n"
     ]
    }
   ],
   "source": [
    "# Pipeline Generator\n",
    "# You can take the “stream” of values coming out of one generator and\n",
    "# feed them into another generator again\n",
    "def get_number():\n",
    "    for i in range(100):\n",
    "        if i%2 == 0 and i%3 == 0 and i%5 == 0:\n",
    "            yield i\n",
    "\n",
    "def square(numbers):\n",
    "    for num in numbers:\n",
    "        yield {num:num**2}\n",
    "\n",
    "gen_lst = list(square(get_number()))\n",
    "for elem in gen_lst:\n",
    "    print(elem)"
   ]
  },
  {
   "cell_type": "code",
   "execution_count": null,
   "metadata": {},
   "outputs": [],
   "source": []
  }
 ],
 "metadata": {
  "kernelspec": {
   "display_name": "Python 3",
   "language": "python",
   "name": "python3"
  },
  "language_info": {
   "codemirror_mode": {
    "name": "ipython",
    "version": 3
   },
   "file_extension": ".py",
   "mimetype": "text/x-python",
   "name": "python",
   "nbconvert_exporter": "python",
   "pygments_lexer": "ipython3",
   "version": "3.7.6"
  }
 },
 "nbformat": 4,
 "nbformat_minor": 4
}
