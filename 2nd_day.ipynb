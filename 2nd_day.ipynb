{
 "cells": [
  {
   "cell_type": "code",
   "execution_count": 1,
   "metadata": {},
   "outputs": [
    {
     "name": "stdout",
     "output_type": "stream",
     "text": [
      "i10,16gb,1TB\n"
     ]
    }
   ],
   "source": [
    "#Class and Object\n",
    "#self()\n",
    "class computers:\n",
    "    \n",
    "    def configuration(self):\n",
    "        print(\"i10,16gb,1TB\")\n",
    "\n",
    "comp1=computers()\n",
    "\n",
    "comp1.configuration()"
   ]
  },
  {
   "cell_type": "code",
   "execution_count": 2,
   "metadata": {},
   "outputs": [
    {
     "name": "stdout",
     "output_type": "stream",
     "text": [
      "Hello from init() function[constructor]\n",
      "Hello from function() function\n"
     ]
    }
   ],
   "source": [
    "#init and self(Constructor)\n",
    "class Myclass:\n",
    "    def __init__(self):\n",
    "        print(\"Hello from init() function[constructor]\")\n",
    "    def func(self):\n",
    "        print(\"Hello from function() function\")\n",
    "\n",
    "myc=Myclass() #creating the object of mylass as myc\n",
    "\n",
    "myc.func()"
   ]
  },
  {
   "cell_type": "code",
   "execution_count": 3,
   "metadata": {},
   "outputs": [
    {
     "name": "stdout",
     "output_type": "stream",
     "text": [
      "You are eligible for Voting your age is 18+ \n",
      "You are not eligible for voting your age is not 18\n"
     ]
    }
   ],
   "source": [
    "#init() and self(Parameterized Cons)\n",
    "class VotingAge:\n",
    "    def __init__(self,eligibleAge):\n",
    "        self.eligibleAge=eligibleAge\n",
    "    \n",
    "    def Iseligible(self,userage):\n",
    "        if userage >= self.eligibleAge:\n",
    "            print(\"You are eligible for Voting your age is 18+ \")\n",
    "        else:\n",
    "            print(\"You are not eligible for voting your age is not 18\")\n",
    "\n",
    "v1=VotingAge(18)\n",
    "v1.Iseligible(25)\n",
    "\n",
    "v2=VotingAge(17)\n",
    "v2.Iseligible(15)\n",
    "        "
   ]
  },
  {
   "cell_type": "code",
   "execution_count": 4,
   "metadata": {},
   "outputs": [
    {
     "name": "stdout",
     "output_type": "stream",
     "text": [
      "Student Information\n",
      "Name: Chandrakant\n",
      "Course: BE\n",
      "\n",
      "After Modifying details\n",
      "Student Information\n",
      "Name: Nilesh\n",
      "Course: BTECH\n"
     ]
    }
   ],
   "source": [
    "#Modifying object properties\n",
    "class Student:\n",
    "    def __init__(self,name,course):\n",
    "        self.name=name\n",
    "        self.course=course\n",
    "    \n",
    "    def show(self):\n",
    "        print(\"Student Information\")\n",
    "        print(\"Name:\",self.name)\n",
    "        print(\"Course:\",self.course)\n",
    "\n",
    "s1=Student(\"Chandrakant\",\"BE\")\n",
    "s1.show()\n",
    "\n",
    "#changing the name and Course of the student\n",
    "\n",
    "s1.name=\"Nilesh\"\n",
    "s1.course=\"BTECH\"\n",
    "\n",
    "print(\"\\nAfter Modifying details\")\n",
    "s1.show()\n",
    "    "
   ]
  },
  {
   "cell_type": "code",
   "execution_count": 5,
   "metadata": {},
   "outputs": [
    {
     "name": "stdout",
     "output_type": "stream",
     "text": [
      "\n",
      "Student Information\n",
      "Name: Chandrakant\n",
      "Course: BE\n",
      "\n",
      "Student Information\n",
      "Name: Nilesh\n",
      "Course: BTECH\n",
      "\n",
      "Student Information\n",
      "Name: Chandrakant\n",
      "Course: BE\n"
     ]
    }
   ],
   "source": [
    "#Modifying object properties\n",
    "class Student:\n",
    "    def __init__(self,name,course):\n",
    "        self.name=name\n",
    "        self.course=course\n",
    "    \n",
    "    def show(self):\n",
    "        print(\"\\nStudent Information\")\n",
    "        print(\"Name:\",self.name)\n",
    "        print(\"Course:\",self.course)\n",
    "\n",
    "s1=Student(\"Chandrakant\",\"BE\")\n",
    "s2=Student(\"Nilesh\",\"BTECH\")\n",
    "\n",
    "s1.show()\n",
    "s2.show()\n",
    "\n",
    "#deleting s2\n",
    "del s2 #delete keyword\n",
    "\n",
    "s1.show() #show only s1 details of student and not s2 student"
   ]
  },
  {
   "cell_type": "code",
   "execution_count": 7,
   "metadata": {},
   "outputs": [
    {
     "name": "stdout",
     "output_type": "stream",
     "text": [
      "Enter First number: 5\n",
      "Enter Second number: 4\n",
      "(from class Base) Addition is: 9\n",
      "(from class Derived) Multiplication is: 20\n"
     ]
    }
   ],
   "source": [
    "#Inheritance\n",
    "#Single Level Inheritance\n",
    "class Base:\n",
    "    def cal_sum(self,a,b):\n",
    "        return a+b\n",
    "    \n",
    "class Derived(Base):\n",
    "    def cal_mul(self,a,b):\n",
    "        return a*b\n",
    "    \n",
    "num1=int(input(\"Enter First number: \"))\n",
    "num2=int(input(\"Enter Second number: \"))\n",
    "\n",
    "d=Derived()\n",
    "\n",
    "print(\"(from class Base) Addition is:\",d.cal_sum(num1,num2))\n",
    "print(\"(from class Derived) Multiplication is:\",d.cal_mul(num1,num2))\n",
    "    \n",
    "    \n",
    "    "
   ]
  },
  {
   "cell_type": "code",
   "execution_count": 11,
   "metadata": {},
   "outputs": [
    {
     "name": "stdout",
     "output_type": "stream",
     "text": [
      "Addition is:  15\n",
      "Multiplication is : 50\n"
     ]
    }
   ],
   "source": [
    "#Hierarchical Inheritance\n",
    "class Base:\n",
    "    a=5\n",
    "    b=10\n",
    "\n",
    "class Derived_A(Base):\n",
    "    def sum(self):\n",
    "        add=self.a+self.b\n",
    "        print(\"Addition is: \",add)\n",
    "class Derived_B(Base):\n",
    "    def mul(self):\n",
    "        mul=self.a*self.b\n",
    "        print(\"Multiplication is :\",mul)\n",
    "        \n",
    "D_A=Derived_A()\n",
    "D_B=Derived_B()\n",
    "\n",
    "D_A.sum()\n",
    "D_B.mul()"
   ]
  },
  {
   "cell_type": "code",
   "execution_count": 12,
   "metadata": {},
   "outputs": [
    {
     "name": "stdout",
     "output_type": "stream",
     "text": [
      "Enter Cement Quantity: 120\n",
      "Enter Iron Quantity: 15\n",
      "Total Cost:  84000\n"
     ]
    }
   ],
   "source": [
    "#Multiple Inheritance\n",
    "class Cement_Dealer:\n",
    "    def getCement_Cost(self,Quantity):\n",
    "        return Quantity*200\n",
    "\n",
    "class Iron_Dealer:\n",
    "    def getIron_Cost(self,Quantity):\n",
    "        return Quantity*4000\n",
    "class Builder(Cement_Dealer,Iron_Dealer):\n",
    "    def getTotal_Cost(self,cQ,iQ):\n",
    "        c_cost=self.getCement_Cost(cQ)\n",
    "        i_cost=self.getIron_Cost(iQ)\n",
    "        total_cost=c_cost+i_cost\n",
    "        return total_cost\n",
    "\n",
    "cement=int(input(\"Enter Cement Quantity: \"))\n",
    "iron=int(input(\"Enter Iron Quantity: \"))\n",
    "\n",
    "b=Builder()\n",
    "\n",
    "total_cost=b.getTotal_Cost(cement,iron)\n",
    "\n",
    "print(\"Total Cost: \",total_cost)\n",
    "        "
   ]
  },
  {
   "cell_type": "code",
   "execution_count": null,
   "metadata": {},
   "outputs": [],
   "source": [
    "#Multilevel Inheritance\n",
    "class University:\n",
    "    def getUniversity_Details(self):\n",
    "        self.uName=input(\"Enter University Name\")\n",
    "        self.uRid=int(input(\"Enter Reg.(Unversity) No: \"))\n",
    "    def showUniversity_Details(self):\n",
    "        print(\"University Name :\",self.uName)\n",
    "        print(\"University Reg.No: \",self)"
   ]
  }
 ],
 "metadata": {
  "kernelspec": {
   "display_name": "Python 3",
   "language": "python",
   "name": "python3"
  },
  "language_info": {
   "codemirror_mode": {
    "name": "ipython",
    "version": 3
   },
   "file_extension": ".py",
   "mimetype": "text/x-python",
   "name": "python",
   "nbconvert_exporter": "python",
   "pygments_lexer": "ipython3",
   "version": "3.7.6"
  }
 },
 "nbformat": 4,
 "nbformat_minor": 4
}
